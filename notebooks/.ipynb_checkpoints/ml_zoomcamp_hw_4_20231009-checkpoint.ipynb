{
 "cells": [
  {
   "cell_type": "markdown",
   "id": "0a0cff6e",
   "metadata": {},
   "source": [
    "# Imports"
   ]
  },
  {
   "cell_type": "code",
   "execution_count": 82,
   "id": "a357d12e",
   "metadata": {},
   "outputs": [],
   "source": [
    "import pandas as pd\n",
    "import numpy as np"
   ]
  },
  {
   "cell_type": "markdown",
   "id": "9e361cef",
   "metadata": {},
   "source": [
    "# Download data"
   ]
  },
  {
   "cell_type": "code",
   "execution_count": 83,
   "id": "ba6ce13b",
   "metadata": {},
   "outputs": [
    {
     "name": "stdout",
     "output_type": "stream",
     "text": [
      "--2023-10-09 23:04:06--  https://raw.githubusercontent.com/alexeygrigorev/mlbookcamp-code/master/chapter-02-car-price/data.csv\n",
      "Resolving raw.githubusercontent.com (raw.githubusercontent.com)... 185.199.111.133, 185.199.108.133, 185.199.109.133, ...\n",
      "Connecting to raw.githubusercontent.com (raw.githubusercontent.com)|185.199.111.133|:443... connected.\n",
      "HTTP request sent, awaiting response... 200 OK\n",
      "Length: 1475504 (1.4M) [text/plain]\n",
      "Saving to: ‘data.csv’\n",
      "\n",
      "data.csv            100%[===================>]   1.41M  1.96MB/s    in 0.7s    \n",
      "\n",
      "2023-10-09 23:04:07 (1.96 MB/s) - ‘data.csv’ saved [1475504/1475504]\n",
      "\n"
     ]
    }
   ],
   "source": [
    "!wget https://raw.githubusercontent.com/alexeygrigorev/mlbookcamp-code/master/chapter-02-car-price/data.csv\n",
    "!mv data.csv ../data/"
   ]
  },
  {
   "cell_type": "markdown",
   "id": "cdad3aa2",
   "metadata": {},
   "source": [
    "# Preprocess data"
   ]
  },
  {
   "cell_type": "code",
   "execution_count": 84,
   "id": "5d24c371",
   "metadata": {},
   "outputs": [
    {
     "name": "stdout",
     "output_type": "stream",
     "text": [
      "<class 'pandas.core.frame.DataFrame'>\n",
      "RangeIndex: 11914 entries, 0 to 11913\n",
      "Data columns (total 10 columns):\n",
      " #   Column             Non-Null Count  Dtype  \n",
      "---  ------             --------------  -----  \n",
      " 0   make               11914 non-null  object \n",
      " 1   model              11914 non-null  object \n",
      " 2   year               11914 non-null  int64  \n",
      " 3   engine_hp          11845 non-null  float64\n",
      " 4   engine_cylinders   11884 non-null  float64\n",
      " 5   transmission_type  11914 non-null  object \n",
      " 6   vehicle_style      11914 non-null  object \n",
      " 7   highway_mpg        11914 non-null  int64  \n",
      " 8   city_mpg           11914 non-null  int64  \n",
      " 9   msrp               11914 non-null  int64  \n",
      "dtypes: float64(2), int64(4), object(4)\n",
      "memory usage: 930.9+ KB\n"
     ]
    }
   ],
   "source": [
    "columns_to_retain = [\n",
    "    \"Make\",\n",
    "    \"Model\",\n",
    "    \"Year\",\n",
    "    \"Engine HP\",\n",
    "    \"Engine Cylinders\",\n",
    "    \"Transmission Type\",\n",
    "    \"Vehicle Style\",\n",
    "    \"highway MPG\",\n",
    "    \"city mpg\",\n",
    "    \"MSRP\"]\n",
    "\n",
    "car_prices =\\\n",
    "    pd.read_csv(\"../data/data.csv\")[\n",
    "        columns_to_retain\n",
    "]\n",
    "\n",
    "car_prices.columns =\\\n",
    "    car_prices.columns.str.replace(' ', '_').str.lower()\n",
    "\n",
    "car_prices.info()"
   ]
  },
  {
   "cell_type": "code",
   "execution_count": 85,
   "id": "3433747d",
   "metadata": {},
   "outputs": [
    {
     "data": {
      "text/html": [
       "<div>\n",
       "<style scoped>\n",
       "    .dataframe tbody tr th:only-of-type {\n",
       "        vertical-align: middle;\n",
       "    }\n",
       "\n",
       "    .dataframe tbody tr th {\n",
       "        vertical-align: top;\n",
       "    }\n",
       "\n",
       "    .dataframe thead th {\n",
       "        text-align: right;\n",
       "    }\n",
       "</style>\n",
       "<table border=\"1\" class=\"dataframe\">\n",
       "  <thead>\n",
       "    <tr style=\"text-align: right;\">\n",
       "      <th></th>\n",
       "      <th>make</th>\n",
       "      <th>model</th>\n",
       "      <th>year</th>\n",
       "      <th>engine_hp</th>\n",
       "      <th>engine_cylinders</th>\n",
       "      <th>transmission_type</th>\n",
       "      <th>vehicle_style</th>\n",
       "      <th>highway_mpg</th>\n",
       "      <th>city_mpg</th>\n",
       "      <th>msrp</th>\n",
       "    </tr>\n",
       "  </thead>\n",
       "  <tbody>\n",
       "    <tr>\n",
       "      <th>0</th>\n",
       "      <td>BMW</td>\n",
       "      <td>1 Series M</td>\n",
       "      <td>2011</td>\n",
       "      <td>335.0</td>\n",
       "      <td>6.0</td>\n",
       "      <td>MANUAL</td>\n",
       "      <td>Coupe</td>\n",
       "      <td>26</td>\n",
       "      <td>19</td>\n",
       "      <td>46135</td>\n",
       "    </tr>\n",
       "    <tr>\n",
       "      <th>1</th>\n",
       "      <td>BMW</td>\n",
       "      <td>1 Series</td>\n",
       "      <td>2011</td>\n",
       "      <td>300.0</td>\n",
       "      <td>6.0</td>\n",
       "      <td>MANUAL</td>\n",
       "      <td>Convertible</td>\n",
       "      <td>28</td>\n",
       "      <td>19</td>\n",
       "      <td>40650</td>\n",
       "    </tr>\n",
       "    <tr>\n",
       "      <th>2</th>\n",
       "      <td>BMW</td>\n",
       "      <td>1 Series</td>\n",
       "      <td>2011</td>\n",
       "      <td>300.0</td>\n",
       "      <td>6.0</td>\n",
       "      <td>MANUAL</td>\n",
       "      <td>Coupe</td>\n",
       "      <td>28</td>\n",
       "      <td>20</td>\n",
       "      <td>36350</td>\n",
       "    </tr>\n",
       "    <tr>\n",
       "      <th>3</th>\n",
       "      <td>BMW</td>\n",
       "      <td>1 Series</td>\n",
       "      <td>2011</td>\n",
       "      <td>230.0</td>\n",
       "      <td>6.0</td>\n",
       "      <td>MANUAL</td>\n",
       "      <td>Coupe</td>\n",
       "      <td>28</td>\n",
       "      <td>18</td>\n",
       "      <td>29450</td>\n",
       "    </tr>\n",
       "    <tr>\n",
       "      <th>4</th>\n",
       "      <td>BMW</td>\n",
       "      <td>1 Series</td>\n",
       "      <td>2011</td>\n",
       "      <td>230.0</td>\n",
       "      <td>6.0</td>\n",
       "      <td>MANUAL</td>\n",
       "      <td>Convertible</td>\n",
       "      <td>28</td>\n",
       "      <td>18</td>\n",
       "      <td>34500</td>\n",
       "    </tr>\n",
       "  </tbody>\n",
       "</table>\n",
       "</div>"
      ],
      "text/plain": [
       "  make       model  year  engine_hp  engine_cylinders transmission_type  \\\n",
       "0  BMW  1 Series M  2011      335.0               6.0            MANUAL   \n",
       "1  BMW    1 Series  2011      300.0               6.0            MANUAL   \n",
       "2  BMW    1 Series  2011      300.0               6.0            MANUAL   \n",
       "3  BMW    1 Series  2011      230.0               6.0            MANUAL   \n",
       "4  BMW    1 Series  2011      230.0               6.0            MANUAL   \n",
       "\n",
       "  vehicle_style  highway_mpg  city_mpg   msrp  \n",
       "0         Coupe           26        19  46135  \n",
       "1   Convertible           28        19  40650  \n",
       "2         Coupe           28        20  36350  \n",
       "3         Coupe           28        18  29450  \n",
       "4   Convertible           28        18  34500  "
      ]
     },
     "execution_count": 85,
     "metadata": {},
     "output_type": "execute_result"
    }
   ],
   "source": [
    "car_prices.head()"
   ]
  },
  {
   "cell_type": "code",
   "execution_count": 86,
   "id": "7b2c90b6",
   "metadata": {},
   "outputs": [
    {
     "data": {
      "text/html": [
       "<div>\n",
       "<style scoped>\n",
       "    .dataframe tbody tr th:only-of-type {\n",
       "        vertical-align: middle;\n",
       "    }\n",
       "\n",
       "    .dataframe tbody tr th {\n",
       "        vertical-align: top;\n",
       "    }\n",
       "\n",
       "    .dataframe thead th {\n",
       "        text-align: right;\n",
       "    }\n",
       "</style>\n",
       "<table border=\"1\" class=\"dataframe\">\n",
       "  <thead>\n",
       "    <tr style=\"text-align: right;\">\n",
       "      <th></th>\n",
       "      <th>make</th>\n",
       "      <th>model</th>\n",
       "      <th>year</th>\n",
       "      <th>engine_hp</th>\n",
       "      <th>engine_cylinders</th>\n",
       "      <th>transmission_type</th>\n",
       "      <th>vehicle_style</th>\n",
       "      <th>highway_mpg</th>\n",
       "      <th>city_mpg</th>\n",
       "      <th>above_average</th>\n",
       "    </tr>\n",
       "  </thead>\n",
       "  <tbody>\n",
       "    <tr>\n",
       "      <th>0</th>\n",
       "      <td>BMW</td>\n",
       "      <td>1 Series M</td>\n",
       "      <td>2011</td>\n",
       "      <td>335.0</td>\n",
       "      <td>6.0</td>\n",
       "      <td>MANUAL</td>\n",
       "      <td>Coupe</td>\n",
       "      <td>26</td>\n",
       "      <td>19</td>\n",
       "      <td>1</td>\n",
       "    </tr>\n",
       "    <tr>\n",
       "      <th>1</th>\n",
       "      <td>BMW</td>\n",
       "      <td>1 Series</td>\n",
       "      <td>2011</td>\n",
       "      <td>300.0</td>\n",
       "      <td>6.0</td>\n",
       "      <td>MANUAL</td>\n",
       "      <td>Convertible</td>\n",
       "      <td>28</td>\n",
       "      <td>19</td>\n",
       "      <td>1</td>\n",
       "    </tr>\n",
       "    <tr>\n",
       "      <th>2</th>\n",
       "      <td>BMW</td>\n",
       "      <td>1 Series</td>\n",
       "      <td>2011</td>\n",
       "      <td>300.0</td>\n",
       "      <td>6.0</td>\n",
       "      <td>MANUAL</td>\n",
       "      <td>Coupe</td>\n",
       "      <td>28</td>\n",
       "      <td>20</td>\n",
       "      <td>0</td>\n",
       "    </tr>\n",
       "    <tr>\n",
       "      <th>3</th>\n",
       "      <td>BMW</td>\n",
       "      <td>1 Series</td>\n",
       "      <td>2011</td>\n",
       "      <td>230.0</td>\n",
       "      <td>6.0</td>\n",
       "      <td>MANUAL</td>\n",
       "      <td>Coupe</td>\n",
       "      <td>28</td>\n",
       "      <td>18</td>\n",
       "      <td>0</td>\n",
       "    </tr>\n",
       "    <tr>\n",
       "      <th>4</th>\n",
       "      <td>BMW</td>\n",
       "      <td>1 Series</td>\n",
       "      <td>2011</td>\n",
       "      <td>230.0</td>\n",
       "      <td>6.0</td>\n",
       "      <td>MANUAL</td>\n",
       "      <td>Convertible</td>\n",
       "      <td>28</td>\n",
       "      <td>18</td>\n",
       "      <td>0</td>\n",
       "    </tr>\n",
       "  </tbody>\n",
       "</table>\n",
       "</div>"
      ],
      "text/plain": [
       "  make       model  year  engine_hp  engine_cylinders transmission_type  \\\n",
       "0  BMW  1 Series M  2011      335.0               6.0            MANUAL   \n",
       "1  BMW    1 Series  2011      300.0               6.0            MANUAL   \n",
       "2  BMW    1 Series  2011      300.0               6.0            MANUAL   \n",
       "3  BMW    1 Series  2011      230.0               6.0            MANUAL   \n",
       "4  BMW    1 Series  2011      230.0               6.0            MANUAL   \n",
       "\n",
       "  vehicle_style  highway_mpg  city_mpg  above_average  \n",
       "0         Coupe           26        19              1  \n",
       "1   Convertible           28        19              1  \n",
       "2         Coupe           28        20              0  \n",
       "3         Coupe           28        18              0  \n",
       "4   Convertible           28        18              0  "
      ]
     },
     "execution_count": 86,
     "metadata": {},
     "output_type": "execute_result"
    }
   ],
   "source": [
    "car_prices['above_average'] =\\\n",
    "    (car_prices.msrp > car_prices.msrp.mean()).astype(int)\n",
    "\n",
    "car_prices =\\\n",
    "    car_prices.drop(columns=[\"msrp\"])\n",
    "\n",
    "car_prices =\\\n",
    "    car_prices.fillna(0)\n",
    "\n",
    "car_prices.head()"
   ]
  },
  {
   "cell_type": "markdown",
   "id": "ba035e6d",
   "metadata": {},
   "source": [
    "# Generate train test splits"
   ]
  },
  {
   "cell_type": "code",
   "execution_count": 87,
   "id": "44bdd0cd",
   "metadata": {},
   "outputs": [],
   "source": [
    "from sklearn.model_selection import train_test_split"
   ]
  },
  {
   "cell_type": "code",
   "execution_count": 88,
   "id": "27c297d6",
   "metadata": {},
   "outputs": [
    {
     "name": "stdout",
     "output_type": "stream",
     "text": [
      "7148 2383 2383\n"
     ]
    }
   ],
   "source": [
    "train_full, test =\\\n",
    "    train_test_split(car_prices, test_size=0.2, train_size=0.8, random_state=1)\n",
    "\n",
    "train, val =\\\n",
    "    train_test_split(train_full, test_size=0.25, train_size=0.75, random_state=1)\n",
    "\n",
    "print(len(train), len(val), len(test))"
   ]
  },
  {
   "cell_type": "code",
   "execution_count": 89,
   "id": "a9691b1b",
   "metadata": {},
   "outputs": [
    {
     "name": "stdout",
     "output_type": "stream",
     "text": [
      "<class 'pandas.core.frame.DataFrame'>\n",
      "Index: 9531 entries, 2711 to 235\n",
      "Data columns (total 6 columns):\n",
      " #   Column            Non-Null Count  Dtype  \n",
      "---  ------            --------------  -----  \n",
      " 0   year              9531 non-null   int64  \n",
      " 1   engine_hp         9531 non-null   float64\n",
      " 2   engine_cylinders  9531 non-null   float64\n",
      " 3   highway_mpg       9531 non-null   int64  \n",
      " 4   city_mpg          9531 non-null   int64  \n",
      " 5   above_average     9531 non-null   int64  \n",
      "dtypes: float64(2), int64(4)\n",
      "memory usage: 521.2 KB\n"
     ]
    }
   ],
   "source": [
    "train_full.select_dtypes(include=['int', 'float']).info()"
   ]
  },
  {
   "cell_type": "markdown",
   "id": "fa014b71",
   "metadata": {},
   "source": [
    "# Q1 AUROC using numerical features"
   ]
  },
  {
   "cell_type": "code",
   "execution_count": 90,
   "id": "4b9e8104",
   "metadata": {},
   "outputs": [],
   "source": [
    "from sklearn.metrics import roc_auc_score"
   ]
  },
  {
   "cell_type": "code",
   "execution_count": 91,
   "id": "79c9f5fa",
   "metadata": {},
   "outputs": [
    {
     "name": "stdout",
     "output_type": "stream",
     "text": [
      "engine_hp 0.9171031265539011\n",
      "engine_cylinders 0.766116490165669\n",
      "highway_mpg 0.6330587871772013\n",
      "city_mpg 0.6734244643245233\n"
     ]
    }
   ],
   "source": [
    "for feature in [\"engine_hp\",\n",
    "    \"engine_cylinders\",\n",
    "    \"highway_mpg\",\n",
    "    \"city_mpg\"]:\n",
    "    \n",
    "    raw_score = roc_auc_score(train.above_average, train[feature])\n",
    "    score = raw_score if raw_score >= 0.5 else 1 - raw_score\n",
    "    \n",
    "    print(feature, score)"
   ]
  },
  {
   "cell_type": "markdown",
   "id": "c1acfef2",
   "metadata": {},
   "source": [
    "Engine HP has the highest AUROC!!"
   ]
  },
  {
   "cell_type": "markdown",
   "id": "cc21c008",
   "metadata": {},
   "source": [
    "# Q2 AUROC on logistic regression model"
   ]
  },
  {
   "cell_type": "code",
   "execution_count": 92,
   "id": "37348628",
   "metadata": {},
   "outputs": [],
   "source": [
    "from sklearn.feature_extraction import DictVectorizer\n",
    "from sklearn.linear_model import LogisticRegression"
   ]
  },
  {
   "cell_type": "code",
   "execution_count": 93,
   "id": "77407f99",
   "metadata": {},
   "outputs": [],
   "source": [
    "train_x = train.drop(columns=[\"above_average\"])\n",
    "val_x = val.drop(columns=[\"above_average\"])\n",
    "\n",
    "dv = DictVectorizer(sparse=False)\n",
    "train_dict = train_x.to_dict(orient='records')\n",
    "X_train = dv.fit_transform(train_dict)\n",
    "\n",
    "val_dict = val_x.to_dict(orient='records')\n",
    "X_val = dv.transform(val_dict)"
   ]
  },
  {
   "cell_type": "code",
   "execution_count": 94,
   "id": "4d819028",
   "metadata": {},
   "outputs": [
    {
     "data": {
      "text/html": [
       "<style>#sk-container-id-3 {color: black;}#sk-container-id-3 pre{padding: 0;}#sk-container-id-3 div.sk-toggleable {background-color: white;}#sk-container-id-3 label.sk-toggleable__label {cursor: pointer;display: block;width: 100%;margin-bottom: 0;padding: 0.3em;box-sizing: border-box;text-align: center;}#sk-container-id-3 label.sk-toggleable__label-arrow:before {content: \"▸\";float: left;margin-right: 0.25em;color: #696969;}#sk-container-id-3 label.sk-toggleable__label-arrow:hover:before {color: black;}#sk-container-id-3 div.sk-estimator:hover label.sk-toggleable__label-arrow:before {color: black;}#sk-container-id-3 div.sk-toggleable__content {max-height: 0;max-width: 0;overflow: hidden;text-align: left;background-color: #f0f8ff;}#sk-container-id-3 div.sk-toggleable__content pre {margin: 0.2em;color: black;border-radius: 0.25em;background-color: #f0f8ff;}#sk-container-id-3 input.sk-toggleable__control:checked~div.sk-toggleable__content {max-height: 200px;max-width: 100%;overflow: auto;}#sk-container-id-3 input.sk-toggleable__control:checked~label.sk-toggleable__label-arrow:before {content: \"▾\";}#sk-container-id-3 div.sk-estimator input.sk-toggleable__control:checked~label.sk-toggleable__label {background-color: #d4ebff;}#sk-container-id-3 div.sk-label input.sk-toggleable__control:checked~label.sk-toggleable__label {background-color: #d4ebff;}#sk-container-id-3 input.sk-hidden--visually {border: 0;clip: rect(1px 1px 1px 1px);clip: rect(1px, 1px, 1px, 1px);height: 1px;margin: -1px;overflow: hidden;padding: 0;position: absolute;width: 1px;}#sk-container-id-3 div.sk-estimator {font-family: monospace;background-color: #f0f8ff;border: 1px dotted black;border-radius: 0.25em;box-sizing: border-box;margin-bottom: 0.5em;}#sk-container-id-3 div.sk-estimator:hover {background-color: #d4ebff;}#sk-container-id-3 div.sk-parallel-item::after {content: \"\";width: 100%;border-bottom: 1px solid gray;flex-grow: 1;}#sk-container-id-3 div.sk-label:hover label.sk-toggleable__label {background-color: #d4ebff;}#sk-container-id-3 div.sk-serial::before {content: \"\";position: absolute;border-left: 1px solid gray;box-sizing: border-box;top: 0;bottom: 0;left: 50%;z-index: 0;}#sk-container-id-3 div.sk-serial {display: flex;flex-direction: column;align-items: center;background-color: white;padding-right: 0.2em;padding-left: 0.2em;position: relative;}#sk-container-id-3 div.sk-item {position: relative;z-index: 1;}#sk-container-id-3 div.sk-parallel {display: flex;align-items: stretch;justify-content: center;background-color: white;position: relative;}#sk-container-id-3 div.sk-item::before, #sk-container-id-3 div.sk-parallel-item::before {content: \"\";position: absolute;border-left: 1px solid gray;box-sizing: border-box;top: 0;bottom: 0;left: 50%;z-index: -1;}#sk-container-id-3 div.sk-parallel-item {display: flex;flex-direction: column;z-index: 1;position: relative;background-color: white;}#sk-container-id-3 div.sk-parallel-item:first-child::after {align-self: flex-end;width: 50%;}#sk-container-id-3 div.sk-parallel-item:last-child::after {align-self: flex-start;width: 50%;}#sk-container-id-3 div.sk-parallel-item:only-child::after {width: 0;}#sk-container-id-3 div.sk-dashed-wrapped {border: 1px dashed gray;margin: 0 0.4em 0.5em 0.4em;box-sizing: border-box;padding-bottom: 0.4em;background-color: white;}#sk-container-id-3 div.sk-label label {font-family: monospace;font-weight: bold;display: inline-block;line-height: 1.2em;}#sk-container-id-3 div.sk-label-container {text-align: center;}#sk-container-id-3 div.sk-container {/* jupyter's `normalize.less` sets `[hidden] { display: none; }` but bootstrap.min.css set `[hidden] { display: none !important; }` so we also need the `!important` here to be able to override the default hidden behavior on the sphinx rendered scikit-learn.org. See: https://github.com/scikit-learn/scikit-learn/issues/21755 */display: inline-block !important;position: relative;}#sk-container-id-3 div.sk-text-repr-fallback {display: none;}</style><div id=\"sk-container-id-3\" class=\"sk-top-container\"><div class=\"sk-text-repr-fallback\"><pre>LogisticRegression(max_iter=1000, solver=&#x27;liblinear&#x27;)</pre><b>In a Jupyter environment, please rerun this cell to show the HTML representation or trust the notebook. <br />On GitHub, the HTML representation is unable to render, please try loading this page with nbviewer.org.</b></div><div class=\"sk-container\" hidden><div class=\"sk-item\"><div class=\"sk-estimator sk-toggleable\"><input class=\"sk-toggleable__control sk-hidden--visually\" id=\"sk-estimator-id-3\" type=\"checkbox\" checked><label for=\"sk-estimator-id-3\" class=\"sk-toggleable__label sk-toggleable__label-arrow\">LogisticRegression</label><div class=\"sk-toggleable__content\"><pre>LogisticRegression(max_iter=1000, solver=&#x27;liblinear&#x27;)</pre></div></div></div></div></div>"
      ],
      "text/plain": [
       "LogisticRegression(max_iter=1000, solver='liblinear')"
      ]
     },
     "execution_count": 94,
     "metadata": {},
     "output_type": "execute_result"
    }
   ],
   "source": [
    "model = LogisticRegression(solver='liblinear', C=1.0, max_iter=1000)\n",
    "model.fit(X_train, train.above_average)"
   ]
  },
  {
   "cell_type": "code",
   "execution_count": 95,
   "id": "f7cb67d2",
   "metadata": {},
   "outputs": [
    {
     "name": "stdout",
     "output_type": "stream",
     "text": [
      "AUROC: 0.976132108676773\n"
     ]
    }
   ],
   "source": [
    "y_pred = model.predict_proba(X_val)[:, 1]\n",
    "print(\"AUROC:\", roc_auc_score(val.above_average, y_pred))"
   ]
  },
  {
   "cell_type": "markdown",
   "id": "44eacd96",
   "metadata": {},
   "source": [
    "# Q3 precision-recall"
   ]
  },
  {
   "cell_type": "code",
   "execution_count": 96,
   "id": "a027e967",
   "metadata": {},
   "outputs": [
    {
     "name": "stderr",
     "output_type": "stream",
     "text": [
      "/var/folders/2p/7_cpzvj95bdccdhty5qlthpc0000gn/T/ipykernel_28008/1242531563.py:12: RuntimeWarning: invalid value encountered in scalar divide\n"
     ]
    }
   ],
   "source": [
    "thresholds, precisions, recalls = [], [], []\n",
    "\n",
    "for threshold in np.linspace(0, 1, 101):\n",
    "    \n",
    "    y_pred_disc = (y_pred >= threshold).astype(int)\n",
    "    tp = (val.above_average & y_pred_disc).sum()\n",
    "    tn = ((1 - val.above_average) & (1 - y_pred_disc)).sum()\n",
    "    fp = ((1 - val.above_average) & y_pred_disc).sum()\n",
    "    fn = (val.above_average & (1 - y_pred_disc)).sum()\n",
    "    \n",
    "    try:\n",
    "        precision = tp/(tp + fp)\n",
    "    except:\n",
    "        precision = 0\n",
    "        \n",
    "    try:\n",
    "        recall = tp/(tp + fn)\n",
    "    except:\n",
    "        recall = 0\n",
    "    \n",
    "    thresholds.append(threshold)\n",
    "    precisions.append(precision)\n",
    "    recalls.append(recall)\n",
    "\n"
   ]
  },
  {
   "cell_type": "code",
   "execution_count": 97,
   "id": "0419ff03",
   "metadata": {},
   "outputs": [],
   "source": [
    "import plotnine as p9"
   ]
  },
  {
   "cell_type": "code",
   "execution_count": 98,
   "id": "cb1f6f64",
   "metadata": {},
   "outputs": [],
   "source": [
    "plotting_df = pd.DataFrame(\n",
    "    {\"threshold\": thresholds + thresholds,\n",
    "     \"metric\": [\"precision\"]*len(thresholds) + [\"recall\"]*len(thresholds),\n",
    "     \"value\": precisions + recalls})"
   ]
  },
  {
   "cell_type": "code",
   "execution_count": 99,
   "id": "a27fda87",
   "metadata": {},
   "outputs": [
    {
     "name": "stderr",
     "output_type": "stream",
     "text": [
      "/Users/wallaca4/anaconda3/envs/ml-zoomcamp/lib/python3.9/site-packages/plotnine/stats/smoothers.py:330: PlotnineWarning: Confidence intervals are not yet implemented for lowess smoothings.\n",
      "/Users/wallaca4/anaconda3/envs/ml-zoomcamp/lib/python3.9/site-packages/plotnine/stats/smoothers.py:330: PlotnineWarning: Confidence intervals are not yet implemented for lowess smoothings.\n",
      "/Users/wallaca4/anaconda3/envs/ml-zoomcamp/lib/python3.9/site-packages/plotnine/layer.py:364: PlotnineWarning: geom_point : Removed 1 rows containing missing values.\n"
     ]
    },
    {
     "data": {
      "image/png": "[encoded data removed]",
      "text/plain": [
       "<Figure size 640x480 with 1 Axes>"
      ]
     },
     "metadata": {
      "image/png": {
       "height": 480,
       "width": 640
      }
     },
     "output_type": "display_data"
    },
    {
     "data": {
      "text/plain": [
       "<Figure Size: (640 x 480)>"
      ]
     },
     "execution_count": 99,
     "metadata": {},
     "output_type": "execute_result"
    }
   ],
   "source": [
    "p9.ggplot(plotting_df, p9.aes(x = \"threshold\", y = \"value\", color = \"metric\")) +\\\n",
    "    p9.geom_point() +\\\n",
    "    p9.geom_smooth() +\\\n",
    "    p9.theme_bw()"
   ]
  },
  {
   "cell_type": "markdown",
   "id": "2fcc1345",
   "metadata": {},
   "source": [
    "Intersection occurs at 0.48!!"
   ]
  },
  {
   "cell_type": "markdown",
   "id": "09528345",
   "metadata": {},
   "source": [
    "# Q4 compute F1 scores!"
   ]
  },
  {
   "cell_type": "code",
   "execution_count": 100,
   "id": "d2715af8",
   "metadata": {},
   "outputs": [
    {
     "name": "stdout",
     "output_type": "stream",
     "text": [
      "0.0 0.43068817912413565\n",
      "0.01 0.6037037037037037\n",
      "0.02 0.648729446935725\n",
      "0.03 0.6770670826833073\n",
      "0.04 0.6977992485238862\n",
      "0.05 0.7278835386338185\n",
      "0.06 0.7404449515116942\n",
      "0.07 0.7463893703061814\n",
      "0.08 0.7552693208430914\n",
      "0.09 0.7646710136336692\n",
      "0.1 0.7777777777777779\n",
      "0.11 0.7887323943661972\n",
      "0.12 0.8035043804755944\n",
      "0.13 0.8108791903858317\n",
      "0.14 0.8153354632587859\n",
      "0.15 0.8192926045016076\n",
      "0.16 0.8198837959974176\n",
      "0.17 0.8220779220779221\n",
      "0.18 0.8246881155613919\n",
      "0.19 0.8274950429610046\n",
      "0.2 0.8305647840531561\n",
      "0.21 0.8304405874499333\n",
      "0.22 0.8327736736064472\n",
      "0.23 0.8346883468834688\n",
      "0.24 0.8387978142076502\n",
      "0.25 0.8397790055248618\n",
      "0.26 0.8418862690707352\n",
      "0.27 0.846745976207138\n",
      "0.28 0.8507042253521128\n",
      "0.29 0.8504936530324402\n",
      "0.3 0.8535031847133758\n",
      "0.31 0.8542999289267947\n",
      "0.32 0.856325947105075\n",
      "0.33 0.8585858585858586\n",
      "0.34 0.8581765557163531\n",
      "0.35000000000000003 0.859840232389252\n",
      "0.36 0.8648648648648649\n",
      "0.37 0.8651026392961877\n",
      "0.38 0.8649045521292217\n",
      "0.39 0.8632352941176471\n",
      "0.4 0.8660251665433013\n",
      "0.41000000000000003 0.8656273199703043\n",
      "0.42 0.8675595238095237\n",
      "0.43 0.8678117998506348\n",
      "0.44 0.8693693693693693\n",
      "0.45 0.8693693693693693\n",
      "0.46 0.8753799392097265\n",
      "0.47000000000000003 0.8751902587519026\n",
      "0.48 0.8730886850152904\n",
      "0.49 0.8722264728385617\n",
      "0.5 0.8778979907264297\n",
      "0.51 0.8799380325329202\n",
      "0.52 0.8754894283476898\n",
      "0.53 0.8726415094339623\n",
      "0.54 0.8706624605678234\n",
      "0.55 0.8607796340493238\n",
      "0.56 0.8585131894484411\n",
      "0.5700000000000001 0.8485829959514171\n",
      "0.58 0.8487804878048781\n",
      "0.59 0.8473469387755103\n",
      "0.6 0.8464052287581699\n",
      "0.61 0.84375\n",
      "0.62 0.8427152317880795\n",
      "0.63 0.8424543946932006\n",
      "0.64 0.8383333333333333\n",
      "0.65 0.8380634390651086\n",
      "0.66 0.8358458961474037\n",
      "0.67 0.8369747899159663\n",
      "0.68 0.833052276559865\n",
      "0.6900000000000001 0.8312128922815945\n",
      "0.7000000000000001 0.8344709897610921\n",
      "0.71 0.830188679245283\n",
      "0.72 0.8258620689655172\n",
      "0.73 0.8217993079584774\n",
      "0.74 0.8156521739130433\n",
      "0.75 0.8080631025416302\n",
      "0.76 0.7978723404255319\n",
      "0.77 0.7939339875111509\n",
      "0.78 0.7899461400359067\n",
      "0.79 0.7815049864007253\n",
      "0.8 0.7799086757990867\n",
      "0.81 0.7746090156393743\n",
      "0.8200000000000001 0.7635009310986965\n",
      "0.8300000000000001 0.7591377694470478\n",
      "0.84 0.7469194312796209\n",
      "0.85 0.739961759082218\n",
      "0.86 0.7326923076923076\n",
      "0.87 0.7241045498547919\n",
      "0.88 0.7166504381694254\n",
      "0.89 0.7001972386587771\n",
      "0.9 0.6931479642502482\n",
      "0.91 0.6707070707070708\n",
      "0.92 0.6598569969356486\n",
      "0.93 0.6410788381742739\n",
      "0.9400000000000001 0.6181434599156118\n",
      "0.9500000000000001 0.589881593110872\n",
      "0.96 0.5588558855885588\n",
      "0.97 0.5385474860335195\n",
      "0.98 0.4982778415614237\n",
      "0.99 0.4391408114558472\n",
      "1.0 nan\n"
     ]
    },
    {
     "name": "stderr",
     "output_type": "stream",
     "text": [
      "/var/folders/2p/7_cpzvj95bdccdhty5qlthpc0000gn/T/ipykernel_28008/1889977591.py:10: RuntimeWarning: invalid value encountered in scalar divide\n",
      "/var/folders/2p/7_cpzvj95bdccdhty5qlthpc0000gn/T/ipykernel_28008/1889977591.py:19: RuntimeWarning: divide by zero encountered in scalar divide\n"
     ]
    }
   ],
   "source": [
    "\n",
    "\n",
    "for threshold in np.linspace(0, 1, 101):\n",
    "    \n",
    "    y_pred_disc = (y_pred >= threshold).astype(int)\n",
    "    tp = (val.above_average & y_pred_disc).sum()\n",
    "    tn = ((1 - val.above_average) & (1 - y_pred_disc)).sum()\n",
    "    fp = ((1 - val.above_average) & y_pred_disc).sum()\n",
    "    fn = (val.above_average & (1 - y_pred_disc)).sum()\n",
    "    \n",
    "    try:\n",
    "        precision = tp/(tp + fp)\n",
    "    except:\n",
    "        precision = 0\n",
    "        \n",
    "    try:\n",
    "        recall = tp/(tp + fn)\n",
    "    except:\n",
    "        recall = 0\n",
    "        \n",
    "    f1_score = 1/(((1/precision) + (1/recall))/2)\n",
    "    \n",
    "    print(threshold, f1_score)"
   ]
  },
  {
   "cell_type": "markdown",
   "id": "c398f893",
   "metadata": {},
   "source": [
    "Maximized at 0.52!"
   ]
  },
  {
   "cell_type": "markdown",
   "id": "dad27ed2",
   "metadata": {},
   "source": [
    "# Q5 cross validation!"
   ]
  },
  {
   "cell_type": "code",
   "execution_count": 101,
   "id": "351f7516",
   "metadata": {},
   "outputs": [],
   "source": [
    "from sklearn.model_selection import KFold"
   ]
  },
  {
   "cell_type": "code",
   "execution_count": 110,
   "id": "dd3edef9",
   "metadata": {},
   "outputs": [],
   "source": [
    "def train_fn(df_train, y_train, C=1.0):\n",
    "    dicts = df_train.to_dict(orient='records')\n",
    "\n",
    "    dv = DictVectorizer(sparse=False)\n",
    "    X_train = dv.fit_transform(dicts)\n",
    "\n",
    "    model = LogisticRegression(solver='liblinear', C=C, max_iter=1000)\n",
    "    model.fit(X_train, y_train)\n",
    "    \n",
    "    return dv, model\n",
    "\n",
    "def predict_fn(df, dv, model):\n",
    "    dicts = df.to_dict(orient='records')\n",
    "\n",
    "    X = dv.transform(dicts)\n",
    "    y_pred = model.predict_proba(X)[:, 1]\n",
    "\n",
    "    return y_pred"
   ]
  },
  {
   "cell_type": "code",
   "execution_count": 107,
   "id": "cd49ae0b",
   "metadata": {},
   "outputs": [
    {
     "name": "stdout",
     "output_type": "stream",
     "text": [
      "[0 1 2 3 4] [ 6  7 21 25 28]\n",
      "[0 1 2 4 5] [ 3 11 16 17 22]\n",
      "[0 2 3 6 7] [ 1  4  5 12 13]\n",
      "[0 1 2 3 4] [ 9 10 14 27 38]\n",
      "[1 3 4 5 6] [ 0  2  8 15 18]\n"
     ]
    }
   ],
   "source": [
    "kfold = KFold(n_splits=5, shuffle=True, random_state=1)\n",
    "\n",
    "scores = []\n",
    "\n",
    "for train_idx, val_idx in kfold.split(train_full):\n",
    "    \n",
    "    print(train_idx[0:5], val_idx[0:5])\n",
    "    df_train = train_full.iloc[train_idx]\n",
    "    df_val = train_full.iloc[val_idx]\n",
    "    \n",
    "    df_train_x = df_train.drop(columns=[\"above_average\"])\n",
    "    df_val_x = df_val.drop(columns=[\"above_average\"])\n",
    "\n",
    "    y_train = df_train.above_average.values\n",
    "    y_val = df_val.above_average.values\n",
    "\n",
    "    dv, model = train_fn(df_train_x, y_train, C=1.0)\n",
    "    y_pred = predict_fn(df_val_x, dv, model)\n",
    "    \n",
    "    #print(y_val[0:5], y_pred[0:5])\n",
    "\n",
    "    auc = roc_auc_score(y_val, y_pred)\n",
    "    scores.append(auc)"
   ]
  },
  {
   "cell_type": "code",
   "execution_count": 108,
   "id": "b69666c7",
   "metadata": {},
   "outputs": [
    {
     "data": {
      "text/plain": [
       "0.002525742817445815"
      ]
     },
     "execution_count": 108,
     "metadata": {},
     "output_type": "execute_result"
    }
   ],
   "source": [
    "np.std(scores)"
   ]
  },
  {
   "cell_type": "code",
   "execution_count": 109,
   "id": "58c6aae2",
   "metadata": {},
   "outputs": [
    {
     "data": {
      "text/plain": [
       "[0.9784891235596623,\n",
       " 0.9774830122707482,\n",
       " 0.9843469410518098,\n",
       " 0.979723662930121,\n",
       " 0.9776903651903652]"
      ]
     },
     "execution_count": 109,
     "metadata": {},
     "output_type": "execute_result"
    }
   ],
   "source": [
    "scores"
   ]
  },
  {
   "cell_type": "code",
   "execution_count": 106,
   "id": "229ca738",
   "metadata": {},
   "outputs": [
    {
     "data": {
      "text/html": [
       "<div>\n",
       "<style scoped>\n",
       "    .dataframe tbody tr th:only-of-type {\n",
       "        vertical-align: middle;\n",
       "    }\n",
       "\n",
       "    .dataframe tbody tr th {\n",
       "        vertical-align: top;\n",
       "    }\n",
       "\n",
       "    .dataframe thead th {\n",
       "        text-align: right;\n",
       "    }\n",
       "</style>\n",
       "<table border=\"1\" class=\"dataframe\">\n",
       "  <thead>\n",
       "    <tr style=\"text-align: right;\">\n",
       "      <th></th>\n",
       "      <th>make</th>\n",
       "      <th>model</th>\n",
       "      <th>year</th>\n",
       "      <th>engine_hp</th>\n",
       "      <th>engine_cylinders</th>\n",
       "      <th>transmission_type</th>\n",
       "      <th>vehicle_style</th>\n",
       "      <th>highway_mpg</th>\n",
       "      <th>city_mpg</th>\n",
       "      <th>above_average</th>\n",
       "    </tr>\n",
       "  </thead>\n",
       "  <tbody>\n",
       "    <tr>\n",
       "      <th>5727</th>\n",
       "      <td>Toyota</td>\n",
       "      <td>Highlander Hybrid</td>\n",
       "      <td>2016</td>\n",
       "      <td>280.0</td>\n",
       "      <td>6.0</td>\n",
       "      <td>AUTOMATIC</td>\n",
       "      <td>4dr SUV</td>\n",
       "      <td>28</td>\n",
       "      <td>27</td>\n",
       "      <td>1</td>\n",
       "    </tr>\n",
       "    <tr>\n",
       "      <th>5814</th>\n",
       "      <td>Chevrolet</td>\n",
       "      <td>Impala Limited</td>\n",
       "      <td>2014</td>\n",
       "      <td>300.0</td>\n",
       "      <td>6.0</td>\n",
       "      <td>AUTOMATIC</td>\n",
       "      <td>Sedan</td>\n",
       "      <td>30</td>\n",
       "      <td>18</td>\n",
       "      <td>0</td>\n",
       "    </tr>\n",
       "    <tr>\n",
       "      <th>8450</th>\n",
       "      <td>Buick</td>\n",
       "      <td>Regal</td>\n",
       "      <td>2016</td>\n",
       "      <td>259.0</td>\n",
       "      <td>4.0</td>\n",
       "      <td>AUTOMATIC</td>\n",
       "      <td>Sedan</td>\n",
       "      <td>27</td>\n",
       "      <td>19</td>\n",
       "      <td>0</td>\n",
       "    </tr>\n",
       "    <tr>\n",
       "      <th>2396</th>\n",
       "      <td>Volkswagen</td>\n",
       "      <td>CC</td>\n",
       "      <td>2015</td>\n",
       "      <td>280.0</td>\n",
       "      <td>6.0</td>\n",
       "      <td>AUTOMATED_MANUAL</td>\n",
       "      <td>Sedan</td>\n",
       "      <td>25</td>\n",
       "      <td>17</td>\n",
       "      <td>1</td>\n",
       "    </tr>\n",
       "    <tr>\n",
       "      <th>5494</th>\n",
       "      <td>Dodge</td>\n",
       "      <td>Grand Caravan</td>\n",
       "      <td>2016</td>\n",
       "      <td>283.0</td>\n",
       "      <td>6.0</td>\n",
       "      <td>AUTOMATIC</td>\n",
       "      <td>Passenger Minivan</td>\n",
       "      <td>25</td>\n",
       "      <td>17</td>\n",
       "      <td>0</td>\n",
       "    </tr>\n",
       "    <tr>\n",
       "      <th>...</th>\n",
       "      <td>...</td>\n",
       "      <td>...</td>\n",
       "      <td>...</td>\n",
       "      <td>...</td>\n",
       "      <td>...</td>\n",
       "      <td>...</td>\n",
       "      <td>...</td>\n",
       "      <td>...</td>\n",
       "      <td>...</td>\n",
       "      <td>...</td>\n",
       "    </tr>\n",
       "    <tr>\n",
       "      <th>5864</th>\n",
       "      <td>Subaru</td>\n",
       "      <td>Impreza</td>\n",
       "      <td>2015</td>\n",
       "      <td>148.0</td>\n",
       "      <td>4.0</td>\n",
       "      <td>MANUAL</td>\n",
       "      <td>4dr Hatchback</td>\n",
       "      <td>33</td>\n",
       "      <td>24</td>\n",
       "      <td>0</td>\n",
       "    </tr>\n",
       "    <tr>\n",
       "      <th>7924</th>\n",
       "      <td>Infiniti</td>\n",
       "      <td>QX50</td>\n",
       "      <td>2016</td>\n",
       "      <td>325.0</td>\n",
       "      <td>6.0</td>\n",
       "      <td>AUTOMATIC</td>\n",
       "      <td>4dr SUV</td>\n",
       "      <td>24</td>\n",
       "      <td>17</td>\n",
       "      <td>0</td>\n",
       "    </tr>\n",
       "    <tr>\n",
       "      <th>4719</th>\n",
       "      <td>Honda</td>\n",
       "      <td>Fit</td>\n",
       "      <td>2017</td>\n",
       "      <td>130.0</td>\n",
       "      <td>4.0</td>\n",
       "      <td>AUTOMATIC</td>\n",
       "      <td>4dr Hatchback</td>\n",
       "      <td>37</td>\n",
       "      <td>32</td>\n",
       "      <td>0</td>\n",
       "    </tr>\n",
       "    <tr>\n",
       "      <th>63</th>\n",
       "      <td>Audi</td>\n",
       "      <td>200</td>\n",
       "      <td>1991</td>\n",
       "      <td>162.0</td>\n",
       "      <td>5.0</td>\n",
       "      <td>AUTOMATIC</td>\n",
       "      <td>Sedan</td>\n",
       "      <td>20</td>\n",
       "      <td>16</td>\n",
       "      <td>0</td>\n",
       "    </tr>\n",
       "    <tr>\n",
       "      <th>7918</th>\n",
       "      <td>Infiniti</td>\n",
       "      <td>QX4</td>\n",
       "      <td>2003</td>\n",
       "      <td>240.0</td>\n",
       "      <td>6.0</td>\n",
       "      <td>AUTOMATIC</td>\n",
       "      <td>4dr SUV</td>\n",
       "      <td>18</td>\n",
       "      <td>14</td>\n",
       "      <td>0</td>\n",
       "    </tr>\n",
       "  </tbody>\n",
       "</table>\n",
       "<p>7148 rows × 10 columns</p>\n",
       "</div>"
      ],
      "text/plain": [
       "            make              model  year  engine_hp  engine_cylinders  \\\n",
       "5727      Toyota  Highlander Hybrid  2016      280.0               6.0   \n",
       "5814   Chevrolet     Impala Limited  2014      300.0               6.0   \n",
       "8450       Buick              Regal  2016      259.0               4.0   \n",
       "2396  Volkswagen                 CC  2015      280.0               6.0   \n",
       "5494       Dodge      Grand Caravan  2016      283.0               6.0   \n",
       "...          ...                ...   ...        ...               ...   \n",
       "5864      Subaru            Impreza  2015      148.0               4.0   \n",
       "7924    Infiniti               QX50  2016      325.0               6.0   \n",
       "4719       Honda                Fit  2017      130.0               4.0   \n",
       "63          Audi                200  1991      162.0               5.0   \n",
       "7918    Infiniti                QX4  2003      240.0               6.0   \n",
       "\n",
       "     transmission_type      vehicle_style  highway_mpg  city_mpg  \\\n",
       "5727         AUTOMATIC            4dr SUV           28        27   \n",
       "5814         AUTOMATIC              Sedan           30        18   \n",
       "8450         AUTOMATIC              Sedan           27        19   \n",
       "2396  AUTOMATED_MANUAL              Sedan           25        17   \n",
       "5494         AUTOMATIC  Passenger Minivan           25        17   \n",
       "...                ...                ...          ...       ...   \n",
       "5864            MANUAL      4dr Hatchback           33        24   \n",
       "7924         AUTOMATIC            4dr SUV           24        17   \n",
       "4719         AUTOMATIC      4dr Hatchback           37        32   \n",
       "63           AUTOMATIC              Sedan           20        16   \n",
       "7918         AUTOMATIC            4dr SUV           18        14   \n",
       "\n",
       "      above_average  \n",
       "5727              1  \n",
       "5814              0  \n",
       "8450              0  \n",
       "2396              1  \n",
       "5494              0  \n",
       "...             ...  \n",
       "5864              0  \n",
       "7924              0  \n",
       "4719              0  \n",
       "63                0  \n",
       "7918              0  \n",
       "\n",
       "[7148 rows x 10 columns]"
      ]
     },
     "execution_count": 106,
     "metadata": {},
     "output_type": "execute_result"
    }
   ],
   "source": [
    "train"
   ]
  },
  {
   "cell_type": "markdown",
   "id": "6e792031",
   "metadata": {},
   "source": [
    "# Q6 tuning the 'C' hyperparameter"
   ]
  },
  {
   "cell_type": "code",
   "execution_count": 114,
   "id": "abcbe31d",
   "metadata": {},
   "outputs": [
    {
     "name": "stdout",
     "output_type": "stream",
     "text": [
      "C value 0.01\n",
      "0.952\n",
      "0.002\n",
      "C value 0.1\n",
      "0.972\n",
      "0.002\n",
      "C value 0.5\n",
      "0.978\n",
      "0.001\n",
      "C value 10\n",
      "0.982\n",
      "0.003\n"
     ]
    }
   ],
   "source": [
    "\n",
    "for c in [0.01, 0.1, 0.5, 10]:\n",
    "    \n",
    "    kfold = KFold(n_splits=5, shuffle=True, random_state=1)\n",
    "\n",
    "    scores = []\n",
    "\n",
    "    for train_idx, val_idx in kfold.split(train_full):\n",
    "        df_train = train_full.iloc[train_idx]\n",
    "        df_val = train_full.iloc[val_idx]\n",
    "\n",
    "        df_train_x = df_train.drop(columns=[\"above_average\"])\n",
    "        df_val_x = df_val.drop(columns=[\"above_average\"])\n",
    "\n",
    "        y_train = df_train.above_average.values\n",
    "        y_val = df_val.above_average.values\n",
    "\n",
    "        dv, model = train_fn(df_train_x, y_train, C=c)\n",
    "        y_pred = predict_fn(df_val_x, dv, model)\n",
    "\n",
    "        #print(y_val[0:5], y_pred[0:5])\n",
    "\n",
    "        auc = roc_auc_score(y_val, y_pred)\n",
    "        scores.append(auc)\n",
    "    print(\"C value\", c)\n",
    "    print(round(np.mean(scores), 3))\n",
    "    print(round(np.std(scores), 3))"
   ]
  },
  {
   "cell_type": "code",
   "execution_count": null,
   "id": "4527d3bd",
   "metadata": {},
   "outputs": [],
   "source": []
  }
 ],
 "metadata": {
  "kernelspec": {
   "display_name": "Python 3 (ipykernel)",
   "language": "python",
   "name": "python3"
  },
  "language_info": {
   "codemirror_mode": {
    "name": "ipython",
    "version": 3
   },
   "file_extension": ".py",
   "mimetype": "text/x-python",
   "name": "python",
   "nbconvert_exporter": "python",
   "pygments_lexer": "ipython3",
   "version": "3.9.18"
  }
 },
 "nbformat": 4,
 "nbformat_minor": 5
}
